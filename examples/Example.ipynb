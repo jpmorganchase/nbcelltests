{
 "cells": [
  {
   "cell_type": "markdown",
   "metadata": {
    "editable": true,
    "slideshow": {
     "slide_type": ""
    },
    "tags": []
   },
   "source": [
    "# Test1"
   ]
  },
  {
   "cell_type": "code",
   "execution_count": 1,
   "metadata": {
    "celltests": [
     "# Use %cell to mark where the cell should be inserted, or add a line comment \"# no %cell\" to deliberately skip the cell\n",
     "%cell\n",
     "\n"
    ],
    "editable": true,
    "slideshow": {
     "slide_type": ""
    },
    "tags": []
   },
   "outputs": [],
   "source": [
    "import cufflinks as cf\n",
    "df = cf.datagen.lines()"
   ]
  },
  {
   "cell_type": "code",
   "execution_count": 2,
   "metadata": {
    "editable": true,
    "slideshow": {
     "slide_type": ""
    },
    "tags": []
   },
   "outputs": [
    {
     "data": {
      "text/html": [
       "<div>\n",
       "<style scoped>\n",
       "    .dataframe tbody tr th:only-of-type {\n",
       "        vertical-align: middle;\n",
       "    }\n",
       "\n",
       "    .dataframe tbody tr th {\n",
       "        vertical-align: top;\n",
       "    }\n",
       "\n",
       "    .dataframe thead th {\n",
       "        text-align: right;\n",
       "    }\n",
       "</style>\n",
       "<table border=\"1\" class=\"dataframe\">\n",
       "  <thead>\n",
       "    <tr style=\"text-align: right;\">\n",
       "      <th></th>\n",
       "      <th>MXG.VB</th>\n",
       "      <th>PZN.HE</th>\n",
       "      <th>AXU.UI</th>\n",
       "      <th>ESD.FW</th>\n",
       "      <th>AMM.PQ</th>\n",
       "    </tr>\n",
       "  </thead>\n",
       "  <tbody>\n",
       "    <tr>\n",
       "      <th>2015-01-01</th>\n",
       "      <td>1.389986</td>\n",
       "      <td>-0.034130</td>\n",
       "      <td>0.030130</td>\n",
       "      <td>0.017788</td>\n",
       "      <td>-0.979965</td>\n",
       "    </tr>\n",
       "    <tr>\n",
       "      <th>2015-01-02</th>\n",
       "      <td>0.630551</td>\n",
       "      <td>-0.791366</td>\n",
       "      <td>-1.209354</td>\n",
       "      <td>-0.138271</td>\n",
       "      <td>-0.712772</td>\n",
       "    </tr>\n",
       "    <tr>\n",
       "      <th>2015-01-03</th>\n",
       "      <td>1.135169</td>\n",
       "      <td>-0.790191</td>\n",
       "      <td>-0.327498</td>\n",
       "      <td>-0.391465</td>\n",
       "      <td>-0.129237</td>\n",
       "    </tr>\n",
       "    <tr>\n",
       "      <th>2015-01-04</th>\n",
       "      <td>0.530649</td>\n",
       "      <td>1.833701</td>\n",
       "      <td>-2.309952</td>\n",
       "      <td>-0.724280</td>\n",
       "      <td>-0.285290</td>\n",
       "    </tr>\n",
       "    <tr>\n",
       "      <th>2015-01-05</th>\n",
       "      <td>0.971822</td>\n",
       "      <td>2.070774</td>\n",
       "      <td>-3.288536</td>\n",
       "      <td>-1.422594</td>\n",
       "      <td>0.338101</td>\n",
       "    </tr>\n",
       "  </tbody>\n",
       "</table>\n",
       "</div>"
      ],
      "text/plain": [
       "              MXG.VB    PZN.HE    AXU.UI    ESD.FW    AMM.PQ\n",
       "2015-01-01  1.389986 -0.034130  0.030130  0.017788 -0.979965\n",
       "2015-01-02  0.630551 -0.791366 -1.209354 -0.138271 -0.712772\n",
       "2015-01-03  1.135169 -0.790191 -0.327498 -0.391465 -0.129237\n",
       "2015-01-04  0.530649  1.833701 -2.309952 -0.724280 -0.285290\n",
       "2015-01-05  0.971822  2.070774 -3.288536 -1.422594  0.338101"
      ]
     },
     "execution_count": 2,
     "metadata": {},
     "output_type": "execute_result"
    }
   ],
   "source": [
    "df.head()"
   ]
  },
  {
   "cell_type": "code",
   "execution_count": 3,
   "metadata": {
    "editable": true,
    "slideshow": {
     "slide_type": ""
    },
    "tags": []
   },
   "outputs": [],
   "source": [
    "df['date'] = df.index"
   ]
  },
  {
   "cell_type": "code",
   "execution_count": 4,
   "metadata": {
    "editable": true,
    "slideshow": {
     "slide_type": ""
    },
    "tags": []
   },
   "outputs": [
    {
     "data": {
      "text/html": [
       "<div>\n",
       "<style scoped>\n",
       "    .dataframe tbody tr th:only-of-type {\n",
       "        vertical-align: middle;\n",
       "    }\n",
       "\n",
       "    .dataframe tbody tr th {\n",
       "        vertical-align: top;\n",
       "    }\n",
       "\n",
       "    .dataframe thead th {\n",
       "        text-align: right;\n",
       "    }\n",
       "</style>\n",
       "<table border=\"1\" class=\"dataframe\">\n",
       "  <thead>\n",
       "    <tr style=\"text-align: right;\">\n",
       "      <th></th>\n",
       "      <th>MXG.VB</th>\n",
       "      <th>PZN.HE</th>\n",
       "      <th>AXU.UI</th>\n",
       "      <th>ESD.FW</th>\n",
       "      <th>AMM.PQ</th>\n",
       "      <th>date</th>\n",
       "    </tr>\n",
       "  </thead>\n",
       "  <tbody>\n",
       "    <tr>\n",
       "      <th>2015-01-01</th>\n",
       "      <td>1.389986</td>\n",
       "      <td>-0.034130</td>\n",
       "      <td>0.030130</td>\n",
       "      <td>0.017788</td>\n",
       "      <td>-0.979965</td>\n",
       "      <td>2015-01-01</td>\n",
       "    </tr>\n",
       "    <tr>\n",
       "      <th>2015-01-02</th>\n",
       "      <td>0.630551</td>\n",
       "      <td>-0.791366</td>\n",
       "      <td>-1.209354</td>\n",
       "      <td>-0.138271</td>\n",
       "      <td>-0.712772</td>\n",
       "      <td>2015-01-02</td>\n",
       "    </tr>\n",
       "    <tr>\n",
       "      <th>2015-01-03</th>\n",
       "      <td>1.135169</td>\n",
       "      <td>-0.790191</td>\n",
       "      <td>-0.327498</td>\n",
       "      <td>-0.391465</td>\n",
       "      <td>-0.129237</td>\n",
       "      <td>2015-01-03</td>\n",
       "    </tr>\n",
       "    <tr>\n",
       "      <th>2015-01-04</th>\n",
       "      <td>0.530649</td>\n",
       "      <td>1.833701</td>\n",
       "      <td>-2.309952</td>\n",
       "      <td>-0.724280</td>\n",
       "      <td>-0.285290</td>\n",
       "      <td>2015-01-04</td>\n",
       "    </tr>\n",
       "    <tr>\n",
       "      <th>2015-01-05</th>\n",
       "      <td>0.971822</td>\n",
       "      <td>2.070774</td>\n",
       "      <td>-3.288536</td>\n",
       "      <td>-1.422594</td>\n",
       "      <td>0.338101</td>\n",
       "      <td>2015-01-05</td>\n",
       "    </tr>\n",
       "  </tbody>\n",
       "</table>\n",
       "</div>"
      ],
      "text/plain": [
       "              MXG.VB    PZN.HE    AXU.UI    ESD.FW    AMM.PQ       date\n",
       "2015-01-01  1.389986 -0.034130  0.030130  0.017788 -0.979965 2015-01-01\n",
       "2015-01-02  0.630551 -0.791366 -1.209354 -0.138271 -0.712772 2015-01-02\n",
       "2015-01-03  1.135169 -0.790191 -0.327498 -0.391465 -0.129237 2015-01-03\n",
       "2015-01-04  0.530649  1.833701 -2.309952 -0.724280 -0.285290 2015-01-04\n",
       "2015-01-05  0.971822  2.070774 -3.288536 -1.422594  0.338101 2015-01-05"
      ]
     },
     "execution_count": 4,
     "metadata": {},
     "output_type": "execute_result"
    }
   ],
   "source": [
    "df.head()"
   ]
  },
  {
   "cell_type": "markdown",
   "metadata": {},
   "source": [
    "# Test 2"
   ]
  },
  {
   "cell_type": "code",
   "execution_count": null,
   "metadata": {
    "editable": true,
    "slideshow": {
     "slide_type": ""
    },
    "tags": []
   },
   "outputs": [],
   "source": [
    "\n",
    "test3"
   ]
  },
  {
   "cell_type": "code",
   "execution_count": 2,
   "metadata": {
    "editable": true,
    "slideshow": {
     "slide_type": ""
    },
    "tags": []
   },
   "outputs": [
    {
     "ename": "KeyboardInterrupt",
     "evalue": "",
     "output_type": "error",
     "traceback": [
      "\u001b[0;31m---------------------------------------------------------------------------\u001b[0m",
      "\u001b[0;31mKeyboardInterrupt\u001b[0m                         Traceback (most recent call last)",
      "\u001b[0;32m<ipython-input-2-b7133701d76c>\u001b[0m in \u001b[0;36m<module>\u001b[0;34m\u001b[0m\n\u001b[1;32m      1\u001b[0m \u001b[0;32mwhile\u001b[0m \u001b[0;32mTrue\u001b[0m\u001b[0;34m:\u001b[0m\u001b[0;34m\u001b[0m\u001b[0;34m\u001b[0m\u001b[0m\n\u001b[0;32m----> 2\u001b[0;31m     \u001b[0;32mpass\u001b[0m\u001b[0;34m\u001b[0m\u001b[0;34m\u001b[0m\u001b[0m\n\u001b[0m",
      "\u001b[0;31mKeyboardInterrupt\u001b[0m: "
     ]
    }
   ],
   "source": [
    "while True:\n",
    "    pass"
   ]
  },
  {
   "cell_type": "code",
   "execution_count": null,
   "metadata": {},
   "outputs": [],
   "source": []
  }
 ],
 "metadata": {
  "celltests": {
   "cell_coverage": 50,
   "cells_per_notebook": 10,
   "class_definitions": 10,
   "function_definitions": 10,
   "lines_per_cell": 10
  },
  "kernelspec": {
   "display_name": "Python 3 (ipykernel)",
   "language": "python",
   "name": "python3"
  },
  "language_info": {
   "codemirror_mode": {
    "name": "ipython",
    "version": 3
   },
   "file_extension": ".py",
   "mimetype": "text/x-python",
   "name": "python",
   "nbconvert_exporter": "python",
   "pygments_lexer": "ipython3",
   "version": "3.11.9"
  },
  "widgets": {
   "application/vnd.jupyter.widget-state+json": {
    "state": {},
    "version_major": 2,
    "version_minor": 0
   }
  }
 },
 "nbformat": 4,
 "nbformat_minor": 4
}
